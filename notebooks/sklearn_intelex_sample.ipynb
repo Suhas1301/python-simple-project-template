{
 "cells": [
  {
   "cell_type": "code",
   "execution_count": null,
   "metadata": {},
   "outputs": [],
   "source": [
    "import numpy as np\n",
    "\n",
    "# Use this for CPU\n",
    "from sklearnex import patch_sklearn\n",
    "\n",
    "# Use this for GPU only\n",
    "# from daal4py.oneapi import sycl_context\n",
    "\n",
    "# common invocation for in-place patching of sklearn \n",
    "patch_sklearn()\n",
    "\n",
    "# From now on, import and use sklearn as if it is regular sklearn, but underneath it is different\n",
    "from sklearn.cluster import DBSCAN"
   ]
  },
  {
   "cell_type": "code",
   "execution_count": null,
   "metadata": {},
   "outputs": [],
   "source": [
    "X = np.array([[1., 2.], [2., 2.], [2., 3.],\n",
    "              [8., 7.], [8., 8.], [25., 80.]], dtype=np.float32)\n",
    "clustering = DBSCAN(eps=3, min_samples=2).fit(X)"
   ]
  },
  {
   "cell_type": "code",
   "execution_count": null,
   "metadata": {},
   "outputs": [],
   "source": []
  }
 ],
 "metadata": {
  "kernelspec": {
   "display_name": "aimlsem1",
   "language": "python",
   "name": "python3"
  },
  "language_info": {
   "codemirror_mode": {
    "name": "ipython",
    "version": 3
   },
   "file_extension": ".py",
   "mimetype": "text/x-python",
   "name": "python",
   "nbconvert_exporter": "python",
   "pygments_lexer": "ipython3",
   "version": "3.9.17"
  },
  "orig_nbformat": 4
 },
 "nbformat": 4,
 "nbformat_minor": 2
}
