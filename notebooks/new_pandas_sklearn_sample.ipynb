{
 "cells": [
  {
   "cell_type": "code",
   "execution_count": null,
   "metadata": {},
   "outputs": [],
   "source": [
    "import numpy as np\n",
    "\n",
    "# Use this for CPU\n",
    "from sklearnex import patch_sklearn\n",
    "\n",
    "# Use this for GPU only\n",
    "# from daal4py.oneapi import sycl_context\n",
    "\n",
    "# common invocation for in-place patching of sklearn \n",
    "patch_sklearn()\n",
    "\n",
    "# From now on, import and use sklearn as if it is regular sklearn, but underneath it is different\n",
    "from sklearn.datasets import load_wine\n",
    "from sklearn.model_selection import train_test_split\n",
    "from sklearn.preprocessing import StandardScaler\n",
    "\n",
    "import matplotlib.pyplot as plt"
   ]
  },
  {
   "cell_type": "code",
   "execution_count": null,
   "metadata": {},
   "outputs": [],
   "source": [
    "\n",
    "########################\n",
    "X, y = load_wine(as_frame=True, return_X_y=True) \n",
    "# available from version >=0.23; as_frame\n",
    "########################\n",
    "X_train, X_test, y_train, y_test = train_test_split(X, y, stratify=y, \n",
    "                                                    random_state=0)\n",
    "X_train.head(3)"
   ]
  },
  {
   "cell_type": "code",
   "execution_count": null,
   "metadata": {},
   "outputs": [],
   "source": [
    "############\n",
    "# v1.2.0\n",
    "############\n",
    "\n",
    "scaler = StandardScaler().set_output(transform=\"pandas\") \n",
    "## change here\n",
    "\n",
    "scaler.fit(X_train)\n",
    "X_test_scaled = scaler.transform(X_test)\n",
    "X_test_scaled.head(3)"
   ]
  },
  {
   "cell_type": "code",
   "execution_count": null,
   "metadata": {},
   "outputs": [],
   "source": [
    "fig = plt.figure(figsize=(8, 5))\n",
    "fig.add_subplot(121)\n",
    "plt.scatter(X_test['proline'], X_test['hue'], \n",
    "            c=X_test['alcohol'], alpha=0.8, cmap='bwr')\n",
    "clb = plt.colorbar()\n",
    "plt.xlabel('Proline', fontsize=11)\n",
    "plt.ylabel('Hue', fontsize=11)\n",
    "fig.add_subplot(122)\n",
    "plt.scatter(X_test_scaled['proline'], X_test_scaled['hue'], \n",
    "            c=X_test_scaled['alcohol'], alpha=0.8, cmap='bwr')\n",
    "# pretty easy now in the newer version to see the effect\n",
    "\n",
    "plt.xlabel('Proline (Standardized)', fontsize=11)\n",
    "plt.ylabel('Hue (Standardized)', fontsize=11)\n",
    "clb = plt.colorbar()\n",
    "clb.ax.set_title('Alcohol', fontsize=8)\n",
    "plt.tight_layout()\n",
    "plt.show()"
   ]
  },
  {
   "cell_type": "code",
   "execution_count": null,
   "metadata": {},
   "outputs": [],
   "source": []
  }
 ],
 "metadata": {
  "kernelspec": {
   "display_name": "aimlsem1",
   "language": "python",
   "name": "python3"
  },
  "language_info": {
   "codemirror_mode": {
    "name": "ipython",
    "version": 3
   },
   "file_extension": ".py",
   "mimetype": "text/x-python",
   "name": "python",
   "nbconvert_exporter": "python",
   "pygments_lexer": "ipython3",
   "version": "3.9.17"
  },
  "orig_nbformat": 4
 },
 "nbformat": 4,
 "nbformat_minor": 2
}
